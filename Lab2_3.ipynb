{
  "nbformat": 4,
  "nbformat_minor": 0,
  "metadata": {
    "colab": {
      "provenance": [],
      "toc_visible": true,
      "authorship_tag": "ABX9TyNPH8HiiDGBsTMRQ03njntY",
      "include_colab_link": true
    },
    "kernelspec": {
      "name": "python3",
      "display_name": "Python 3"
    },
    "language_info": {
      "name": "python"
    }
  },
  "cells": [
    {
      "cell_type": "markdown",
      "metadata": {
        "id": "view-in-github",
        "colab_type": "text"
      },
      "source": [
        "<a href=\"https://colab.research.google.com/github/praneeth-ch134/AIAC/blob/main/Lab2_3.ipynb\" target=\"_parent\"><img src=\"https://colab.research.google.com/assets/colab-badge.svg\" alt=\"Open In Colab\"/></a>"
      ]
    },
    {
      "cell_type": "code",
      "execution_count": null,
      "metadata": {
        "id": "I27uYdMnv66h"
      },
      "outputs": [],
      "source": []
    },
    {
      "cell_type": "markdown",
      "source": [
        "Task Description#2\n",
        "● Compare Gemini and Copilot outputs for a palindrome check function.\n",
        "Expected Output#2\n",
        "● Side-by-side comparison and observations"
      ],
      "metadata": {
        "id": "NqYv1CsJTS3b"
      }
    },
    {
      "cell_type": "code",
      "source": [
        "def is_palindrome(text):\n",
        "  \"\"\"Checks if a given string is a palindrome.\"\"\"\n",
        "  text = text.lower().replace(\" \", \"\") # Convert to lowercase and remove spaces\n",
        "  return text == text[::-1]\n",
        "\n",
        "user_input = input(\"Enter a string to check if it's a palindrome: \")\n",
        "\n",
        "if is_palindrome(user_input):\n",
        "  print(f\"'{user_input}' is a palindrome.\")\n",
        "else:\n",
        "  print(f\"'{user_input}' is not a palindrome.\")"
      ],
      "metadata": {
        "colab": {
          "base_uri": "https://localhost:8080/"
        },
        "id": "b1gthPu-TcKX",
        "outputId": "f0501525-bc14-4750-cecf-944da42e95cb"
      },
      "execution_count": 19,
      "outputs": [
        {
          "output_type": "stream",
          "name": "stdout",
          "text": [
            "Enter a string to check if it's a palindrome: madam\n",
            "'madam' is a palindrome.\n"
          ]
        }
      ]
    },
    {
      "cell_type": "markdown",
      "source": [
        "Task Description#3\n",
        "● Ask Gemini to explain a Python function (to calculate area of various shapes) line by\n",
        "line..\n",
        "Expected Output#3\n",
        "● Detailed explanation with code snippet"
      ],
      "metadata": {
        "id": "pVVQTELpXcxN"
      }
    },
    {
      "cell_type": "markdown",
      "metadata": {
        "id": "7815c90a"
      },
      "source": [
        "Here is a line-by-line explanation of the `calculate_area` function:"
      ]
    },
    {
      "cell_type": "code",
      "source": [
        "import math\n",
        "\n",
        "def calculate_area(shape, *args):\n",
        "  \"\"\"\n",
        "  Calculates the area of various shapes.\n",
        "\n",
        "  Args:\n",
        "    shape: A string representing the shape ('circle', 'rectangle', 'triangle').\n",
        "    *args: Variable number of arguments depending on the shape.\n",
        "\n",
        "  Returns:\n",
        "    The area of the shape, or None if the shape is not recognized or arguments are invalid.\n",
        "  \"\"\"\n",
        "  if shape.lower() == 'circle':\n",
        "    if len(args) == 1 and isinstance(args[0], (int, float)):\n",
        "      radius = args[0]\n",
        "      return math.pi * radius**2\n",
        "    else:\n",
        "      print(\"Invalid arguments for circle. Please provide the radius.\")\n",
        "      return None\n",
        "  elif shape.lower() == 'rectangle':\n",
        "    if len(args) == 2 and all(isinstance(arg, (int, float)) for arg in args):\n",
        "      length, width = args\n",
        "      return length * width\n",
        "    else:\n",
        "      print(\"Invalid arguments for rectangle. Please provide length and width.\")\n",
        "      return None\n",
        "  elif shape.lower() == 'triangle':\n",
        "    if len(args) == 2 and all(isinstance(arg, (int, float)) for arg in args):\n",
        "      base, height = args\n",
        "      return 0.5 * base * height\n",
        "    else:\n",
        "      print(\"Invalid arguments for triangle. Please provide base and height.\")\n",
        "      return None\n",
        "  else:\n",
        "    print(f\"Shape '{shape}' not recognized.\")\n",
        "    return None\n",
        "\n",
        "# Example usage:\n",
        "circle_area = calculate_area('circle', 5)\n",
        "print(f\"Area of circle with radius 5: {circle_area}\")\n",
        "\n",
        "rectangle_area = calculate_area('rectangle', 4, 6)\n",
        "print(f\"Area of rectangle with length 4 and width 6: {rectangle_area}\")\n",
        "\n",
        "triangle_area = calculate_area('triangle', 7, 3)\n",
        "print(f\"Area of triangle with base 7 and height 3: {triangle_area}\")\n",
        "\n",
        "invalid_shape_area = calculate_area('square', 5)\n",
        "print(f\"Area of square with side 5: {invalid_shape_area}\")\n",
        "\n",
        "invalid_args_area = calculate_area('circle', 5, 10)\n",
        "print(f\"Area of circle with invalid arguments: {invalid_args_area}\")"
      ],
      "metadata": {
        "colab": {
          "base_uri": "https://localhost:8080/"
        },
        "id": "RmGGoW15ZodZ",
        "outputId": "b1e1ba68-8f40-497d-8b44-299208609c0c"
      },
      "execution_count": 23,
      "outputs": [
        {
          "output_type": "stream",
          "name": "stdout",
          "text": [
            "Area of circle with radius 5: 78.53981633974483\n",
            "Area of rectangle with length 4 and width 6: 24\n",
            "Area of triangle with base 7 and height 3: 10.5\n",
            "Shape 'square' not recognized.\n",
            "Area of square with side 5: None\n",
            "Invalid arguments for circle. Please provide the radius.\n",
            "Area of circle with invalid arguments: None\n"
          ]
        }
      ]
    },
    {
      "cell_type": "markdown",
      "source": [
        "Task Description#5\n",
        "● Student need to write code to calculate sum of add number and even numbers in the\n",
        "list\n",
        "Expected Output#5\n",
        "● Refactored code written by student with improved logic"
      ],
      "metadata": {
        "id": "Sm-aGyvJcM-Q"
      }
    },
    {
      "cell_type": "code",
      "source": [
        "def sum_even_odd(numbers):\n",
        "  \"\"\"\n",
        "  Calculates the sum of even and odd numbers in a list.\n",
        "\n",
        "  Args:\n",
        "    numbers: A list of integers.\n",
        "  \"\"\"\n",
        "  even_sum = 0\n",
        "  odd_sum = 0\n",
        "  for number in numbers:\n",
        "    if number % 2 == 0:\n",
        "      even_sum += number\n",
        "    else:\n",
        "      odd_sum += number\n",
        "  print(f\"Sum of even numbers: {even_sum}\")\n",
        "  print(f\"Sum of odd numbers: {odd_sum}\")\n",
        "\n",
        "# Example usage:\n",
        "my_list = [1, 2, 3, 4, 5, 6, 7, 8, 9, 10]\n",
        "sum_even_odd(my_list)"
      ],
      "metadata": {
        "colab": {
          "base_uri": "https://localhost:8080/"
        },
        "id": "oQhEkDgOcW2D",
        "outputId": "1ba925b4-8713-4da0-8470-2cc089b49a6c"
      },
      "execution_count": 24,
      "outputs": [
        {
          "output_type": "stream",
          "name": "stdout",
          "text": [
            "Sum of even numbers: 30\n",
            "Sum of odd numbers: 25\n"
          ]
        }
      ]
    }
  ]
}