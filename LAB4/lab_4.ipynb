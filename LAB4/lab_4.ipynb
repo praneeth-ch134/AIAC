{
  "cells": [
    {
      "cell_type": "markdown",
      "metadata": {
        "id": "view-in-github",
        "colab_type": "text"
      },
      "source": [
        "<a href=\"https://colab.research.google.com/github/praneeth-ch134/AIAC/blob/main/lab_4.ipynb\" target=\"_parent\"><img src=\"https://colab.research.google.com/assets/colab-badge.svg\" alt=\"Open In Colab\"/></a>"
      ]
    },
    {
      "cell_type": "markdown",
      "source": [],
      "metadata": {
        "id": "5_-9XVeiEhgV"
      }
    },
    {
      "cell_type": "markdown",
      "source": [
        "Task Description#1\n",
        "●\tZero-shot: Prompt AI to write a function that checks whether a given year is a leap year.\n"
      ],
      "metadata": {
        "id": "WF5K6BeAF94D"
      }
    },
    {
      "cell_type": "code",
      "metadata": {
        "colab": {
          "base_uri": "https://localhost:8080/"
        },
        "id": "4e481df7",
        "outputId": "54c2e9f3-cdea-4aee-fbd4-80a36e666f37"
      },
      "source": [
        "def is_leap_year(year):\n",
        "  \"\"\"Checks if a given year is a leap year.\"\"\"\n",
        "  if (year % 4 == 0 and year % 100 != 0) or (year % 400 == 0):\n",
        "    return True\n",
        "  else:\n",
        "    return False\n",
        "\n",
        "# Get input from the user\n",
        "try:\n",
        "  year_to_check = int(input(\"Enter a year to check if it's a leap year: \"))\n",
        "  if is_leap_year(year_to_check):\n",
        "    print(f\"{year_to_check} is a leap year.\")\n",
        "  else:\n",
        "    print(f\"{year_to_check} is not a leap year.\")\n",
        "except ValueError:\n",
        "  print(\"Invalid input. Please enter a valid year as a number.\")"
      ],
      "execution_count": null,
      "outputs": [
        {
          "output_type": "stream",
          "name": "stdout",
          "text": [
            "Enter a year to check if it's a leap year: 2345\n",
            "2345 is not a leap year.\n"
          ]
        }
      ]
    },
    {
      "cell_type": "markdown",
      "source": [
        "Task Description#2\n",
        "●\tOne-shot: Give one input-output example to guide AI in writing a function that converts centimeters to inches.\n"
      ],
      "metadata": {
        "id": "bc2NjbBvGluN"
      }
    },
    {
      "cell_type": "code",
      "metadata": {
        "colab": {
          "base_uri": "https://localhost:8080/"
        },
        "id": "b923507c",
        "outputId": "a5058ebf-5398-4bd7-d5ab-0704a9f3a11c"
      },
      "source": [
        "def cm_to_inches(cm):\n",
        "  \"\"\"Converts centimeters to inches.\"\"\"\n",
        "  inches = cm * 0.393701\n",
        "  return inches\n",
        "\n",
        "# Get input from the user\n",
        "try:\n",
        "  cm_input = float(input(\"Enter the length (cm): \"))\n",
        "  inches_output = cm_to_inches(cm_input)\n",
        "  print(f\"Length in inches: {inches_output}\")\n",
        "except ValueError:\n",
        "  print(\"Invalid input. Please enter a valid number for the length.\")\n",
        "\n",
        "# Example test case:\n",
        "# Enter the length (cm) : 100\n",
        "# Expected output: Length in inches: 39.3701"
      ],
      "execution_count": null,
      "outputs": [
        {
          "metadata": {
            "tags": null
          },
          "name": "stdout",
          "output_type": "stream",
          "text": [
            "Length in inches: 39.3701\n"
          ]
        }
      ]
    },
    {
      "cell_type": "markdown",
      "source": [
        "Task Description#3\n",
        "●\tFew-shot: Provide 2–3 examples to generate a function that formats full names as “Last, First”.\n"
      ],
      "metadata": {
        "id": "aR4roDRzH4Uf"
      }
    },
    {
      "cell_type": "code",
      "metadata": {
        "colab": {
          "base_uri": "https://localhost:8080/"
        },
        "id": "ac59b577",
        "outputId": "31a6d293-467b-48d9-e4c2-f4ef3eedf0ef"
      },
      "source": [
        "def format_name(full_name):\n",
        "  \"\"\"Formats a full name into 'First Last'.\"\"\"\n",
        "  name_parts = full_name.split()\n",
        "  if len(name_parts) >= 2:\n",
        "    first_name = name_parts[0]\n",
        "    last_name = name_parts[-1]\n",
        "    return f\"First Name : {first_name}\\nLast Name : {last_name}\"\n",
        "  else:\n",
        "    return \"Invalid name format. Please enter a full name with at least first and last names.\"\n",
        "\n",
        "# Get input from the user\n",
        "try:\n",
        "  full_name_input = input(\"Enter the Full Name : \")\n",
        "  formatted_name = format_name(full_name_input)\n",
        "  print(formatted_name)\n",
        "except Exception as e:\n",
        "  print(f\"An error occurred: {e}\")\n",
        "\n",
        "# Example test cases:\n",
        "# 1)      Enter the Full Name : Praneeth Chippa\n",
        "# First Name : Praneeth\n",
        "# Last Name : Chippa\n",
        "# 2)      Enter the Full Name : Rohith Dongre\n",
        "# First Name : Rohith\n",
        "# Last Name : Dongre\n",
        "# 3)      Enter the Full Name : Anil Adapa\n",
        "# First Name : Anil\n",
        "# Last Name : Adapa"
      ],
      "execution_count": 1,
      "outputs": [
        {
          "output_type": "stream",
          "name": "stdout",
          "text": [
            "Enter the Full Name : Chippa Praneeth\n",
            "First Name : Chippa\n",
            "Last Name : Praneeth\n"
          ]
        }
      ]
    },
    {
      "cell_type": "markdown",
      "source": [
        "Task Description#4\n",
        "●\tCompare zero-shot and few-shot prompts for writing a function that counts the number of vowels in a string.\n"
      ],
      "metadata": {
        "id": "gOMEcaMzIRfv"
      }
    },
    {
      "cell_type": "code",
      "metadata": {
        "colab": {
          "base_uri": "https://localhost:8080/"
        },
        "id": "b5e08c54",
        "outputId": "154b934f-4b13-4a84-a6b7-ec0bf57b880b"
      },
      "source": [
        "def count_vowels(input_string):\n",
        "  \"\"\"Counts the number of vowels in a string.\"\"\"\n",
        "  vowels = \"aeiouAEIOU\"\n",
        "  vowel_count = 0\n",
        "  for char in input_string:\n",
        "    if char in vowels:\n",
        "      vowel_count += 1\n",
        "  return vowel_count\n",
        "\n",
        "# Get input from the user\n",
        "try:\n",
        "  user_string = input(\"Enter a string : \")\n",
        "  vowel_count = count_vowels(user_string)\n",
        "  print(f\"Count of vowels : {vowel_count}\")\n",
        "except Exception as e:\n",
        "  print(f\"An error occurred: {e}\")\n",
        "\n",
        "# Example test cases:\n",
        "# -       Enter a string : Praneeth\n",
        "#         Count of vowels : 3\n",
        "# -       Enter a string : Srikar\n",
        "# Count of vowels : 2"
      ],
      "execution_count": 2,
      "outputs": [
        {
          "output_type": "stream",
          "name": "stdout",
          "text": [
            "Enter a string : Praneeth\n",
            "Count of vowels : 3\n"
          ]
        }
      ]
    },
    {
      "cell_type": "markdown",
      "source": [
        "Task Description#5\n",
        "●\tUse few-shot prompting to generate a function that reads a .txt file and returns the number of lines.\n"
      ],
      "metadata": {
        "id": "yXQEweDpIjmv"
      }
    },
    {
      "cell_type": "code",
      "metadata": {
        "colab": {
          "base_uri": "https://localhost:8080/"
        },
        "id": "89684b7f",
        "outputId": "8912a838-c301-4cdf-9e1b-c6a47e20eff0"
      },
      "source": [
        "def count_lines_in_file(filepath):\n",
        "  \"\"\"Counts the number of lines in a text file.\"\"\"\n",
        "  try:\n",
        "    with open(filepath, 'r') as file:\n",
        "      line_count = sum(1 for line in file)\n",
        "    return line_count\n",
        "  except FileNotFoundError:\n",
        "    return \"Error: File not found.\"\n",
        "  except Exception as e:\n",
        "    return f\"An error occurred: {e}\"\n",
        "\n",
        "# Get input from the user\n",
        "try:\n",
        "  file_path_input = input(\"Enter the path to the .txt file: \")\n",
        "  line_count = count_lines_in_file(file_path_input)\n",
        "  print(f\"Number of lines in the file: {line_count}\")\n",
        "except Exception as e:\n",
        "  print(f\"An error occurred: {e}\")"
      ],
      "execution_count": 4,
      "outputs": [
        {
          "output_type": "stream",
          "name": "stdout",
          "text": [
            "Enter the path to the .txt file: /content/example.txt\n",
            "Number of lines in the file: 4\n"
          ]
        }
      ]
    }
  ],
  "metadata": {
    "colab": {
      "provenance": [],
      "include_colab_link": true
    },
    "kernelspec": {
      "display_name": "Python 3",
      "name": "python3"
    }
  },
  "nbformat": 4,
  "nbformat_minor": 0
}
